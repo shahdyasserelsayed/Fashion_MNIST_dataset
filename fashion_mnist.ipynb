{
 "cells": [
  {
   "cell_type": "markdown",
   "id": "efd5a35a",
   "metadata": {},
   "source": [
    "# Fashion MNIST Dataset\n"
   ]
  },
  {
   "cell_type": "code",
   "execution_count": 1,
   "id": "eb1bf160",
   "metadata": {},
   "outputs": [],
   "source": [
    "from tensorflow.keras.datasets import fashion_mnist\n",
    "from sklearn.svm import SVC\n",
    "from sklearn.ensemble import RandomForestClassifier\n",
    "from sklearn.decomposition import PCA\n",
    "from sklearn.metrics import accuracy_score, confusion_matrix\n",
    "from tensorflow.keras import models, layers, optimizers\n",
    "import tensorflow as tf\n",
    "import seaborn as sns\n",
    "import matplotlib.pyplot as plt\n",
    "import numpy as np\n",
    "\n",
    "LABELS = [\"T-shirt/top\",\"Trouser\",\"Pullover\",\"Dress\",\"Coat\",\n",
    "          \"Sandal\",\"Shirt\",\"Sneaker\",\"Bag\",\"Ankle boot\"]"
   ]
  },
  {
   "cell_type": "markdown",
   "id": "051edebd",
   "metadata": {},
   "source": [
    "## Load and Preview Data"
   ]
  },
  {
   "cell_type": "code",
   "execution_count": 2,
   "id": "5a920636",
   "metadata": {},
   "outputs": [
    {
     "data": {
      "text/plain": [
       "(np.float64(-0.5), np.float64(27.5), np.float64(27.5), np.float64(-0.5))"
      ]
     },
     "execution_count": 2,
     "metadata": {},
     "output_type": "execute_result"
    },
    {
     "data": {
      "image/png": "[encoded data removed]",
      "text/plain": [
       "<Figure size 640x480 with 1 Axes>"
      ]
     },
     "metadata": {},
     "output_type": "display_data"
    }
   ],
   "source": [
    "(x_train, y_train), (x_test, y_test) = fashion_mnist.load_data()\n",
    "plt.imshow(x_train[0], cmap='gray'); plt.title(LABELS[y_train[0]]); plt.axis('off')"
   ]
  },
  {
   "cell_type": "markdown",
   "id": "50d7c916",
   "metadata": {},
   "source": [
    "## Flatten Data for Machine Learning Models"
   ]
  },
  {
   "cell_type": "code",
   "execution_count": 3,
   "id": "46db7fc7",
   "metadata": {},
   "outputs": [
    {
     "data": {
      "text/plain": [
       "((60000, 784), (10000, 784))"
      ]
     },
     "execution_count": 3,
     "metadata": {},
     "output_type": "execute_result"
    }
   ],
   "source": [
    "x_train_flat = x_train.reshape(len(x_train), -1) / 255.0\n",
    "x_test_flat = x_test.reshape(len(x_test), -1) / 255.0\n",
    "x_train_flat.shape, x_test_flat.shape"
   ]
  },
  {
   "cell_type": "markdown",
   "id": "2d99bd44",
   "metadata": {},
   "source": [
    "## Train & Evaluate SVM"
   ]
  },
  {
   "cell_type": "code",
   "execution_count": 4,
   "id": "4f663f85",
   "metadata": {},
   "outputs": [
    {
     "data": {
      "text/plain": [
       "0.857"
      ]
     },
     "execution_count": 4,
     "metadata": {},
     "output_type": "execute_result"
    }
   ],
   "source": [
    "svm = SVC()\n",
    "svm.fit(x_train_flat[:10000], y_train[:10000])\n",
    "svm_preds = svm.predict(x_test_flat[:5000])\n",
    "svm_acc = accuracy_score(y_test[:5000], svm_preds)\n",
    "svm_acc"
   ]
  },
  {
   "cell_type": "markdown",
   "id": "7edd8adf",
   "metadata": {},
   "source": [
    "## Train & Evaluate Random Forest"
   ]
  },
  {
   "cell_type": "code",
   "execution_count": 5,
   "id": "42bd9e4f",
   "metadata": {},
   "outputs": [
    {
     "data": {
      "text/plain": [
       "0.8488"
      ]
     },
     "execution_count": 5,
     "metadata": {},
     "output_type": "execute_result"
    }
   ],
   "source": [
    "rf = RandomForestClassifier()\n",
    "rf.fit(x_train_flat[:10000], y_train[:10000])\n",
    "rf_preds = rf.predict(x_test_flat[:5000])\n",
    "rf_acc = accuracy_score(y_test[:5000], rf_preds)\n",
    "rf_acc"
   ]
  },
  {
   "cell_type": "markdown",
   "id": "c2fe81d7",
   "metadata": {},
   "source": [
    "## PCA + SVM"
   ]
  },
  {
   "cell_type": "code",
   "execution_count": 6,
   "id": "200a2171",
   "metadata": {},
   "outputs": [
    {
     "data": {
      "text/plain": [
       "0.8614"
      ]
     },
     "execution_count": 6,
     "metadata": {},
     "output_type": "execute_result"
    }
   ],
   "source": [
    "pca = PCA(n_components=150)\n",
    "x_train_pca = pca.fit_transform(x_train_flat[:10000])\n",
    "x_test_pca = pca.transform(x_test_flat[:5000])\n",
    "\n",
    "pca_svm = SVC()\n",
    "pca_svm.fit(x_train_pca, y_train[:10000])\n",
    "pca_preds = pca_svm.predict(x_test_pca)\n",
    "pca_acc = accuracy_score(y_test[:5000], pca_preds)\n",
    "pca_acc"
   ]
  },
  {
   "cell_type": "markdown",
   "id": "49ced171",
   "metadata": {},
   "source": [
    "## Deep Learning Model (DNN)"
   ]
  },
  {
   "cell_type": "code",
   "execution_count": 7,
   "id": "06133e78",
   "metadata": {},
   "outputs": [
    {
     "name": "stderr",
     "output_type": "stream",
     "text": [
      "c:\\Users\\starr\\AppData\\Local\\Programs\\Python\\Python313\\Lib\\site-packages\\keras\\src\\layers\\reshaping\\flatten.py:37: UserWarning: Do not pass an `input_shape`/`input_dim` argument to a layer. When using Sequential models, prefer using an `Input(shape)` object as the first layer in the model instead.\n",
      "  super().__init__(**kwargs)\n"
     ]
    },
    {
     "name": "stdout",
     "output_type": "stream",
     "text": [
      "Epoch 1/5\n",
      "\u001b[1m375/375\u001b[0m \u001b[32m━━━━━━━━━━━━━━━━━━━━\u001b[0m\u001b[37m\u001b[0m \u001b[1m13s\u001b[0m 16ms/step - accuracy: 0.7919 - loss: 0.5907 - val_accuracy: 0.8468 - val_loss: 0.4177\n",
      "Epoch 2/5\n",
      "\u001b[1m375/375\u001b[0m \u001b[32m━━━━━━━━━━━━━━━━━━━━\u001b[0m\u001b[37m\u001b[0m \u001b[1m5s\u001b[0m 13ms/step - accuracy: 0.8398 - loss: 0.4401 - val_accuracy: 0.8598 - val_loss: 0.3917\n",
      "Epoch 3/5\n",
      "\u001b[1m375/375\u001b[0m \u001b[32m━━━━━━━━━━━━━━━━━━━━\u001b[0m\u001b[37m\u001b[0m \u001b[1m10s\u001b[0m 14ms/step - accuracy: 0.8537 - loss: 0.4060 - val_accuracy: 0.8655 - val_loss: 0.3760\n",
      "Epoch 4/5\n",
      "\u001b[1m375/375\u001b[0m \u001b[32m━━━━━━━━━━━━━━━━━━━━\u001b[0m\u001b[37m\u001b[0m \u001b[1m6s\u001b[0m 15ms/step - accuracy: 0.8584 - loss: 0.3857 - val_accuracy: 0.8622 - val_loss: 0.3845\n",
      "Epoch 5/5\n",
      "\u001b[1m375/375\u001b[0m \u001b[32m━━━━━━━━━━━━━━━━━━━━\u001b[0m\u001b[37m\u001b[0m \u001b[1m10s\u001b[0m 14ms/step - accuracy: 0.8610 - loss: 0.3716 - val_accuracy: 0.8692 - val_loss: 0.3728\n",
      "\u001b[1m313/313\u001b[0m \u001b[32m━━━━━━━━━━━━━━━━━━━━\u001b[0m\u001b[37m\u001b[0m \u001b[1m1s\u001b[0m 4ms/step - accuracy: 0.8586 - loss: 0.3842\n"
     ]
    },
    {
     "data": {
      "text/plain": [
       "0.8586000204086304"
      ]
     },
     "execution_count": 7,
     "metadata": {},
     "output_type": "execute_result"
    }
   ],
   "source": [
    "model = models.Sequential([\n",
    "    layers.Flatten(input_shape=(28,28)),\n",
    "    layers.Dense(256, activation='relu'), layers.BatchNormalization(), layers.Dropout(0.3),\n",
    "    layers.Dense(128, activation='relu'), layers.BatchNormalization(), layers.Dropout(0.3),\n",
    "    layers.Dense(64, activation='relu'),\n",
    "    layers.Dense(10, activation='softmax')\n",
    "])\n",
    "model.compile(optimizer='adam', loss='sparse_categorical_crossentropy', metrics=['accuracy'])\n",
    "model.fit(x_train, y_train, epochs=5, batch_size=128, validation_split=0.2)\n",
    "test_loss, dl_acc = model.evaluate(x_test, y_test)\n",
    "dl_acc"
   ]
  }
 ],
 "metadata": {
  "kernelspec": {
   "display_name": "Python 3",
   "name": "python3"
  },
  "language_info": {
   "codemirror_mode": {
    "name": "ipython",
    "version": 3
   },
   "file_extension": ".py",
   "mimetype": "text/x-python",
   "name": "python",
   "nbconvert_exporter": "python",
   "pygments_lexer": "ipython3",
   "version": "3.13.7"
  }
 },
 "nbformat": 4,
 "nbformat_minor": 5
}
